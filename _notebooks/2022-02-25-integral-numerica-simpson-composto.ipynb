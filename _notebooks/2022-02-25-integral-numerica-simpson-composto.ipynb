{
 "cells": [
  {
   "cell_type": "markdown",
   "id": "bc1f7f9a",
   "metadata": {},
   "source": [
    "# Integral Numérica - Método de Simpson Composto\n",
    "> vamos usar o Método de Simpson Composto para o cálculo da áreas de funções.\n",
    "\n",
    "\n",
    "- toc: true \n",
    "- badges: true\n",
    "- comments: true\n",
    "- categories: [jupyter, calculo numerico, python]\n",
    "- image: images/Composite_Simpsons_rule.png"
   ]
  },
  {
   "cell_type": "markdown",
   "id": "e5126f7c",
   "metadata": {},
   "source": [
    "### Método de Simpson Composto\n",
    "\n",
    ">> *A regra de Simpson baseia-se em aproximar a integral definida pela área sob arcos de parábola que interpolam a função.* <a target=\"_blank\" href=\"https://pt.wikipedia.org/wiki/F%C3%B3rmula_de_Simpson\">Origem: Wikipédia</a>\n",
    "\n",
    "\n",
    "![image](https://github.com/Oseiasdfarias/jupyter-notebooks/blob/master/images/Composite_Simpsons_rule.png?raw=true)\n"
   ]
  },
  {
   "cell_type": "markdown",
   "id": "2519240e",
   "metadata": {},
   "source": [
    "#### Formulação do Método\n",
    "\n",
    "> **n** intervalos igualmente espaçados\n",
    "\n",
    "> OBS: A medida que o valor de **n** aumenta a integração de **f(x)** tente ao valor real \n",
    "\n",
    "$$h = \\dfrac{x_m - x_0}{n}$$\n",
    "\n",
    "$$\\int_{a}^{b} f(x) \\,dx \\approx \\dfrac{1}{3}h\\{[f(x_0) + f(x_m)] +4[f(x_1)+ $$\n",
    "$$ f(x_3) + \\dots + f(x_{m-1})] + 2[f(x_2) + f(x_4)+ \\dots + f(x_{m-2}) ]\\}$$\n",
    "\n",
    "**ou**\n",
    "\n",
    "$${\\displaystyle {\\begin{aligned}\\int _{a}^{b}f(x)\\,dx&\\approx {\\frac {h}{3}}\\sum _{j=1}^{n/2}{\\big [}f(x_{2j-2})+4f(x_{2j-1})+f(x_{2j}){\\big ]}\\\\&={\\frac {h}{3}}{\\bigg [}f(x_{0})+2\\sum _{j=1}^{n/2-1}f(x_{2j})+4\\sum _{j=1}^{n/2}f(x_{2j-1})+f(x_{n}){\\bigg ]},\\end{aligned}}}$$\n",
    "<br>\n",
    "\n",
    "---"
   ]
  },
  {
   "cell_type": "markdown",
   "id": "b2128d25",
   "metadata": {},
   "source": [
    "### Implementação do Algorítimo em Python"
   ]
  },
  {
   "cell_type": "markdown",
   "id": "0130fe8c",
   "metadata": {},
   "source": [
    "##### Biblioteca Python\n",
    "Importando a Biblioteca Python que será usada no código"
   ]
  },
  {
   "cell_type": "code",
   "execution_count": 8,
   "id": "ab97110c",
   "metadata": {},
   "outputs": [],
   "source": [
    "import numpy as np"
   ]
  },
  {
   "cell_type": "markdown",
   "id": "5d920336",
   "metadata": {},
   "source": [
    "##### Código  Python\n",
    "Código para integração numérica usando o Método de Simpson Composto.\n",
    "\n",
    "Onde: \n",
    "\n",
    "> + $[x_0]$ Limite inferior\n",
    "> + $[x_m]$ Limite superior\n",
    "> + $[ f ]$ função que será integrada\n",
    "> + $[ n ]$ sub-intervalos - OBS: Tem que ser um valor PAR\n",
    "\n"
   ]
  },
  {
   "cell_type": "code",
   "execution_count": 9,
   "id": "c8ee8b9b",
   "metadata": {},
   "outputs": [],
   "source": [
    "# Integral numérica Método de simpson composto\n",
    "\n",
    "def metodo_simpson(f, x_0, x_m, n):\n",
    "    # O passo de integração, n é a quantidade de subintervalos que queremos\n",
    "    # veridicando se [n] é PAR, condição necessária para o método simpson\n",
    "    if (n%2 != 0):\n",
    "        n -= 1\n",
    "        \n",
    "    h = (x_m - x_0)/ float(n)\n",
    "    \n",
    "    f_x0 = f(x_0)\n",
    "    f_xm = f(x_m)\n",
    "    \n",
    "    x = x_0\n",
    "    x += h\n",
    "    index = 1\n",
    "    somatorio = 0.0\n",
    "    while (x < x_m):\n",
    "        if (index%2 != 0):\n",
    "            somatorio += 4*f(x)\n",
    "        else:\n",
    "            somatorio += 2*f(x)\n",
    "        index += 1\n",
    "        x += h\n",
    "\n",
    "    integral = (h /3.0)*(f_x0 + f_xm + somatorio)\n",
    "    print(\"\\n*************************** SAÍDA ***************************\\n\")\n",
    "    print(f\"\\tIntegral               ≈ {integral}\")\n",
    "    print(f\"\\tSubintervalos [n]      = {n}\")\n",
    "    print(f\"\\tPasso [h]              = {h}\")\n",
    "    print(f\"\\tLimite Inferior [x_0]  = {x_0}\")\n",
    "    print(f\"\\tLimite Superior [x_m]  = {x_m}\")\n",
    "    print(\"\\n                     *************************\\n\")\n",
    "    "
   ]
  },
  {
   "cell_type": "markdown",
   "id": "07d61b0e",
   "metadata": {},
   "source": [
    "---\n",
    "\n",
    "##### Exemplo 01: Solução da integral\n",
    "\n",
    "Aplicando o Método de Simpsom Composto ao exemplo abaixo:\n",
    "\n",
    "\n",
    "$$\\int_{x_0}^{x_m} 2x-e^x \\,dx$$\n",
    "\n",
    "$$\\int_{-1}^{2} 2x-e^x \\,dx \\approx \\dfrac{1}{3}h\\{[2x_0-e^{x_0} + 2x_m-e^{x_m}] + $$\n",
    "\n",
    "$$4[2x_1-e^{x_1} + 2x_3-e^{x_3} + \\dots + 2x_{m-1}-e^{x_{m-1}}] + $$\n",
    "\n",
    "$$2[2x_2-e^{x_2} + 2x_4-e^{x_4}+ \\dots + 2x_{m-2}-e^{x_{m-2}} ]\\}$$\n",
    "\n",
    "\n",
    "<br>\n",
    "\n"
   ]
  },
  {
   "cell_type": "markdown",
   "id": "d0eaacce",
   "metadata": {},
   "source": [
    "##### Código"
   ]
  },
  {
   "cell_type": "code",
   "execution_count": 10,
   "id": "e03de68e",
   "metadata": {},
   "outputs": [
    {
     "name": "stdout",
     "output_type": "stream",
     "text": [
      "\n",
      "*************************** SAÍDA ***************************\n",
      "\n",
      "\tIntegral               ≈ -2.840986767759475\n",
      "\tSubintervalos [n]      = 10\n",
      "\tPasso [h]              = 0.2\n",
      "\tLimite Inferior [x_0]  = 0\n",
      "\tLimite Superior [x_m]  = 2\n",
      "\n",
      "                     *************************\n",
      "\n"
     ]
    }
   ],
   "source": [
    "# Função que será integrada: [f(x) = 2x-e^x]\n",
    "f = lambda x: 2*x-np.exp(x)\n",
    "\n",
    "# Resolvendo a integral usando o método de simpson composto\n",
    "x_0 = 0; x_m = 2; n = 10\n",
    "metodo_simpson(f, x_0, x_m, n)"
   ]
  },
  {
   "cell_type": "markdown",
   "id": "2c0ea9aa",
   "metadata": {},
   "source": [
    "---\n",
    "\n",
    "##### Exemplo 02: Solução da integral\n",
    "\n",
    "Aplicando o Método de Simpsom Composto ao exemplo abaixo:\n",
    "\n",
    "\n",
    "$$\\int_{a}^{b} cos(x) \\,dx$$\n",
    "\n",
    "$$\\int_{a}^{b} 2x-e^x \\,dx \\approx \\dfrac{1}{3}h\\{[cos(x_0) + cos(x_m)] + $$\n",
    "\n",
    "$$4[cos(x_1) + cos(x_3) + \\dots + cos(x_{m-1})] + $$\n",
    "\n",
    "$$2[cos(x_2) + cos(x_4)+ \\dots + cos(x_{m-2}) ]\\}$$\n",
    "\n",
    "\n",
    "<br>\n"
   ]
  },
  {
   "cell_type": "markdown",
   "id": "7989cf65",
   "metadata": {},
   "source": [
    "##### Código"
   ]
  },
  {
   "cell_type": "code",
   "execution_count": 11,
   "id": "9aa7562a",
   "metadata": {},
   "outputs": [
    {
     "name": "stdout",
     "output_type": "stream",
     "text": [
      "\n",
      "*************************** SAÍDA ***************************\n",
      "\n",
      "\tIntegral               ≈ 0.85381930324762\n",
      "\tSubintervalos [n]      = 10\n",
      "\tPasso [h]              = 0.2\n",
      "\tLimite Inferior [x_0]  = 0\n",
      "\tLimite Superior [x_m]  = 2\n",
      "\n",
      "                     *************************\n",
      "\n"
     ]
    }
   ],
   "source": [
    "# Função que será integrada: [f(x) = cos(x)]\n",
    "f = lambda x: np.cos(x)\n",
    "\n",
    "# Resolvendo a integral usando o método de simpson composto\n",
    "x_0 = 0; x_m = 2; n = 10\n",
    "metodo_simpson(f, x_0, x_m, n)"
   ]
  },
  {
   "cell_type": "markdown",
   "id": "490ec2df",
   "metadata": {},
   "source": [
    "---\n",
    "\n",
    "\n",
    "##### Exemplo 03: Solução da integral\n",
    "\n",
    "Aplicando o Método de Simpsom Composto ao exemplo abaixo:\n",
    "\n",
    "\n",
    "$$\\int_{a}^{b} x^2 \\,dx$$\n",
    "\n",
    "$$\\int_{a}^{b} x^2 \\,dx \\approx \\dfrac{1}{3}h\\{[x_0^2 + x_m^2] + 4[x_1^2 + x_3^2 + \\dots + x_{m-1}^2] + $$\n",
    "\n",
    "$$2[x_2^2 + x_4^2 + \\dots + x_{m-2}^2 ]\\}$$\n",
    "\n",
    "\n",
    "\n",
    "<br>"
   ]
  },
  {
   "cell_type": "markdown",
   "id": "af51b8ea",
   "metadata": {},
   "source": [
    "##### Código"
   ]
  },
  {
   "cell_type": "code",
   "execution_count": 12,
   "id": "f5e799a6",
   "metadata": {
    "scrolled": true
   },
   "outputs": [
    {
     "name": "stdout",
     "output_type": "stream",
     "text": [
      "\n",
      "*************************** SAÍDA ***************************\n",
      "\n",
      "\tIntegral               ≈ 3.2\n",
      "\tSubintervalos [n]      = 10\n",
      "\tPasso [h]              = 0.2\n",
      "\tLimite Inferior [x_0]  = 0\n",
      "\tLimite Superior [x_m]  = 2\n",
      "\n",
      "                     *************************\n",
      "\n"
     ]
    }
   ],
   "source": [
    "# Função que será integrada: [f(x) = x^2]\n",
    "f = lambda x: x**2\n",
    "\n",
    "# Resolvendo a integral usando o método de simpson composto\n",
    "x_0 = 0; x_m = 2; n = 10\n",
    "metodo_simpson(f, x_0, x_m, n)"
   ]
  }
 ],
 "metadata": {
  "kernelspec": {
   "display_name": "Python 3 (ipykernel)",
   "language": "python",
   "name": "python3"
  },
  "language_info": {
   "codemirror_mode": {
    "name": "ipython",
    "version": 3
   },
   "file_extension": ".py",
   "mimetype": "text/x-python",
   "name": "python",
   "nbconvert_exporter": "python",
   "pygments_lexer": "ipython3",
   "version": "3.8.10"
  }
 },
 "nbformat": 4,
 "nbformat_minor": 5
}
