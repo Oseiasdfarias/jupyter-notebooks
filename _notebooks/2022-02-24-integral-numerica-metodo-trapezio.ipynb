{
 "cells": [
  {
   "cell_type": "markdown",
   "id": "bc1f7f9a",
   "metadata": {},
   "source": [
    "# Integral Numérica - Método do Trapézio"
   ]
  },
  {
   "cell_type": "markdown",
   "id": "78ccc4f0",
   "metadata": {},
   "source": [
    "vamos usar Método numérico para o cálculo de áreas de funções."
   ]
  },
  {
   "cell_type": "markdown",
   "id": "e5126f7c",
   "metadata": {},
   "source": [
    "### Método do Trapézio\n",
    "\n",
    "\n",
    "#### Regra dos Trapézios – Definições\n",
    "\n",
    ">+ Numericamente a regra dos trapézios é obtida aproximando-se f por um\n",
    "polinômio interpolador de 1° grau.\n",
    "\n",
    ">+ Em seguida calcula-se a área do trapézio cuja base está sobre o eixo dos x.\n",
    "\n",
    "\n",
    "\n",
    "[Origem: Pag(12)](https://docs.ufpr.br/~volmir/MN_15_integracao_regra_trapezio_ppt.pdf)\n",
    "\n",
    "[Regra dos Trapézios – Dedução da Fórmula](https://docs.ufpr.br/~volmir/MN_15_integracao_regra_trapezio_ppt.pdf)"
   ]
  },
  {
   "cell_type": "markdown",
   "id": "2519240e",
   "metadata": {},
   "source": [
    "#### Teorema\n",
    "Se **f** for uma função continua em **(a, b)** onde **a** é o limite inferior de integração e **b** o limite superior de integração, A **regra do Trapézio** que podemos usar para aproximar $ \\int_{a}^{b} f(x) \\,dx $ é dada por:\n",
    "\n",
    "> **n** intervalos – intervalos igualmente espaçados\n",
    "\n",
    "$$h = \\dfrac{b-a}{n}$$\n",
    "\n",
    "$$\\int_{a}^{b} f(x) \\,dx \\approx \\dfrac{1}{2}h(f(a) + 2[f(x_1) + f(x_2) + \\dots + f(x_{n-1})] + f(b))$$\n",
    "\n",
    "<br><br>"
   ]
  },
  {
   "cell_type": "markdown",
   "id": "b2128d25",
   "metadata": {},
   "source": [
    "### Implementação do Algorítimo com Python"
   ]
  },
  {
   "cell_type": "markdown",
   "id": "0130fe8c",
   "metadata": {},
   "source": [
    "##### Importando as Bibliotecas que serão usadas no código"
   ]
  },
  {
   "cell_type": "code",
   "execution_count": 153,
   "id": "ab97110c",
   "metadata": {},
   "outputs": [],
   "source": [
    "import numpy as np\n",
    "import matplotlib.pyplot as plt\n",
    "\n",
    "%matplotlib inline\n",
    "\n",
    "import seaborn as sns\n",
    "sns.set_theme()"
   ]
  },
  {
   "cell_type": "markdown",
   "id": "5d920336",
   "metadata": {},
   "source": [
    "##### Código para integração numérica usando o Método do Trapézio"
   ]
  },
  {
   "cell_type": "code",
   "execution_count": 154,
   "id": "c8ee8b9b",
   "metadata": {},
   "outputs": [],
   "source": [
    "# Integral numérica Método do Trapézio\n",
    "\n",
    "def integ_trap(f, a, b, n):\n",
    "    \n",
    "    # a  Limite inferior\n",
    "    # b Limite superior\n",
    "\n",
    "    # O passo de integração, n é a quantidade de subintervalos que queremos\n",
    "    h = (b-a)/ float(n)\n",
    "\n",
    "    f_a = f(a)\n",
    "\n",
    "    x = a\n",
    "    x += h\n",
    "    somatorio = 0.0\n",
    "    while (x < b):\n",
    "        somatorio += 2*f(x)\n",
    "        x += h\n",
    "\n",
    "\n",
    "    f_b = f(b)\n",
    "\n",
    "    # 1/2ℎ(𝑓(𝑎)+2[𝑓(𝑥1)+𝑓(𝑥2)+⋯+𝑓(𝑥𝑛−1)]+𝑓(𝑏))\n",
    "\n",
    "    integral_trap = (h /2.0)*(f_a + somatorio + f_b)\n",
    "\n",
    "    print(f\"Integral Trapézio ≈ {integral_trap}\")\n",
    "    "
   ]
  },
  {
   "cell_type": "markdown",
   "id": "07d61b0e",
   "metadata": {},
   "source": [
    "---\n",
    "\n",
    "##### Teste 1\n",
    "\n",
    "Aplicando o Método do Trapézio ao exemplo abaixo:\n",
    "\n",
    "\n",
    "$$\\int_{0}^{2} cos(x) \\,dx$$\n",
    "\n",
    "<br>"
   ]
  },
  {
   "cell_type": "code",
   "execution_count": 149,
   "id": "e03de68e",
   "metadata": {},
   "outputs": [
    {
     "name": "stdout",
     "output_type": "stream",
     "text": [
      "Integral Trapézio ≈ 0.9092891038599877\n"
     ]
    }
   ],
   "source": [
    "# Função que será integrada\n",
    "f = lambda x: np.cos(x)\n",
    "\n",
    "# Aplicando a integral usando o método do trapézio\n",
    "a = 0\n",
    "b = 2\n",
    "n = 100000\n",
    "integ_trap(f, a, b, n)\n",
    "\n"
   ]
  },
  {
   "cell_type": "markdown",
   "id": "2c0ea9aa",
   "metadata": {},
   "source": [
    "---\n",
    "\n",
    "##### Teste 2\n",
    "\n",
    "Aplicando o Método do Trapézio ao exemplo abaixo:\n",
    "\n",
    "\n",
    "$$\\int_{-1}^{2} 2 e^x \\,dx$$\n",
    "\n",
    "<br>"
   ]
  },
  {
   "cell_type": "code",
   "execution_count": 161,
   "id": "9aa7562a",
   "metadata": {},
   "outputs": [
    {
     "name": "stdout",
     "output_type": "stream",
     "text": [
      "Integral Trapézio ≈ -4.0221934272473705\n"
     ]
    }
   ],
   "source": [
    "# Função que será integrada\n",
    "f = lambda x: 2*x-np.exp(x)\n",
    "\n",
    "# Aplicando a integral usando o método do trapézio\n",
    "a = -1\n",
    "b = 2\n",
    "n = 10000\n",
    "integ_trap(f, a, b, n)\n"
   ]
  },
  {
   "cell_type": "markdown",
   "id": "490ec2df",
   "metadata": {},
   "source": [
    "---\n",
    "\n",
    "##### Teste 3\n",
    "\n",
    "Aplicando o Método do Trapézio ao exemplo abaixo:\n",
    "\n",
    "\n",
    "$$\\int_{0}^{6} x^2 \\,dx$$\n",
    "\n",
    "<br>"
   ]
  },
  {
   "cell_type": "code",
   "execution_count": 160,
   "id": "f5e799a6",
   "metadata": {},
   "outputs": [
    {
     "name": "stdout",
     "output_type": "stream",
     "text": [
      "Integral Trapézio ≈ 72.00003599999896\n"
     ]
    }
   ],
   "source": [
    "# Função que será integrada\n",
    "f = lambda x: x**2\n",
    "\n",
    "# Aplicando a integral usando o método do trapézio\n",
    "a = 0\n",
    "b = 6\n",
    "n = 1000\n",
    "integ_trap(f, a, b, n)\n"
   ]
  },
  {
   "cell_type": "code",
   "execution_count": null,
   "id": "a9e73d17",
   "metadata": {},
   "outputs": [],
   "source": []
  }
 ],
 "metadata": {
  "kernelspec": {
   "display_name": "Python 3 (ipykernel)",
   "language": "python",
   "name": "python3"
  },
  "language_info": {
   "codemirror_mode": {
    "name": "ipython",
    "version": 3
   },
   "file_extension": ".py",
   "mimetype": "text/x-python",
   "name": "python",
   "nbconvert_exporter": "python",
   "pygments_lexer": "ipython3",
   "version": "3.8.10"
  }
 },
 "nbformat": 4,
 "nbformat_minor": 5
}
